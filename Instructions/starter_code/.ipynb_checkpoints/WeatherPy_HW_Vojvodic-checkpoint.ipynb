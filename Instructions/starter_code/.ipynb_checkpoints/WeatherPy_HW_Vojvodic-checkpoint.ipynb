{
 "cells": [
  {
   "cell_type": "markdown",
   "metadata": {},
   "source": [
    "# WeatherPy_HW_Vojvodic\n",
    "----\n",
    "## Note:\n",
    "Objective is to build a series of scatter plots to showcase the following relationships:\n",
    "* Temperature (F) vs. Latitude * Humidity (%) vs. Latitude * Cloudiness (%) vs. Latitude * Wind Speed (mph) vs. Latitude"
   ]
  },
  {
   "cell_type": "markdown",
   "metadata": {},
   "source": [
    "## Dependencies and Setup"
   ]
  },
  {
   "cell_type": "code",
   "execution_count": null,
   "metadata": {
    "ExecuteTime": {
     "end_time": "2019-07-23T23:14:46.895773Z",
     "start_time": "2019-07-23T23:14:46.884841Z"
    },
    "scrolled": true
   },
   "outputs": [],
   "source": [
    "# Dependencies and Setup\n",
    "%matplotlib notebook\n",
    "import matplotlib.pyplot as plt\n",
    "import pandas as pd\n",
    "import numpy as np\n",
    "import requests\n",
    "import datetime\n",
    "import openweathermapy.core as owm\n",
    "import pytemperature\n",
    "import csv\n",
    "import os\n",
    "%logstart -o -q output_data/python_log.csv\n",
    "%logoff\n",
    "\n",
    "# Import API key\n",
    "from api_keys import api_key\n",
    "\n",
    "# Incorporated citipy to determine city based on latitude and longitude\n",
    "from citipy import citipy\n",
    "\n",
    "# Output File (CSV)\n",
    "output_data_file = \"output_data/cities.csv\"\n",
    "csvfile = \"cities.csv\"\n",
    "output_path = os.path.join(\"output_data\", \"cities.csv\")\n",
    "\n",
    "\n",
    "# Range of latitudes and longitudes\n",
    "lat_range = (-90, 90)\n",
    "lng_range = (-180, 180)"
   ]
  },
  {
   "cell_type": "markdown",
   "metadata": {},
   "source": [
    "## Generate Cities List"
   ]
  },
  {
   "cell_type": "code",
   "execution_count": null,
   "metadata": {
    "ExecuteTime": {
     "end_time": "2019-07-23T23:14:52.535721Z",
     "start_time": "2019-07-23T23:14:51.038688Z"
    }
   },
   "outputs": [],
   "source": [
    "# List for holding lat_lngs and cities\n",
    "lat_lngs = []\n",
    "cities = []\n",
    "countries = []\n",
    "\n",
    "\n",
    "# Create a set of random lat and lng combinations\n",
    "lats = np.random.uniform(low=-90.000, high=90.000, size=1500)\n",
    "lngs = np.random.uniform(low=-180.000, high=180.000, size=1500)\n",
    "lat_lngs = zip(lats, lngs)\n",
    "\n",
    "# Identify nearest city for each lat, lng combination\n",
    "for lat_lng in lat_lngs:\n",
    "    city = citipy.nearest_city(lat_lng[0], lat_lng[1]).city_name\n",
    "    country = citipy.nearest_city(lat_lng[0], lat_lng[1]).country_code\n",
    "\n",
    "# If the city is unique, then add it to a our cities list\n",
    "    if city not in cities:\n",
    "        cities.append(city)\n",
    "        countries.append(country)\n",
    "# Print 'Cities' list to 'cities.csv'\n",
    "with open(output_path, 'w', newline='') as csvfile:\n",
    "    csvwriter = csv.writer(csvfile, delimiter=',')\n",
    "    csvwriter.writerow(cities)\n",
    "        \n",
    "# Print the city count to confirm sufficient count\n",
    "len(cities)\n"
   ]
  },
  {
   "cell_type": "markdown",
   "metadata": {
    "deletable": false,
    "editable": false,
    "run_control": {
     "frozen": true
    }
   },
   "source": [
    "### Perform API Calls\n",
    "* Perform a weather check on each city using a series of successive API calls.\n",
    "* Include a print log of each city as it'sbeing processed (with the city number and city name).\n"
   ]
  },
  {
   "cell_type": "code",
   "execution_count": null,
   "metadata": {
    "ExecuteTime": {
     "end_time": "2019-07-23T23:17:09.006694Z",
     "start_time": "2019-07-23T23:14:55.623422Z"
    },
    "scrolled": false
   },
   "outputs": [],
   "source": [
    "# citi = cities\n",
    "units = \"imperial\"\n",
    "url = \"http://api.openweathermap.org/data/2.5/weather?\"\n",
    "owm.utils.load_config\n",
    "settings = {\"units\": units, \"APPID\": api_key}\n",
    "query_url = f\"{url}appid={api_key}&units={units}&q=\"\n",
    "\n",
    "# set up lists to hold reponse info\n",
    "weather_response = []\n",
    "cityList = []\n",
    "citNam = []\n",
    "lat = []\n",
    "temp = []\n",
    "humi = []\n",
    "eSea = []\n",
    "eGnd = []\n",
    "clouds = []\n",
    "wind = []\n",
    "code = []\n",
    "\n",
    "# for citi in cities:\n",
    "#     weather_response = owm.find_city(citi, **settings)\n",
    "#     selection = ('id','coord.lat','coord.lon')\n",
    "#     data = weather_response(selection)\n",
    "#     cityList.append(data)\n",
    "    \n",
    "# Loop through the list of cities and perform a request for data on each\n",
    "# for city in cities:\n",
    "#     response = requests.get(query_url + city).json()\n",
    "#     lat.append(response['coord']['lat'])\n",
    "#     temp.append(response['main']['temp'])\n",
    "#     cloud.append(response['clouds']['all'])\n",
    "#     wind.append(response['wind']['speed'])\n",
    "# logger.disabled = True\n",
    "# logger.disabled = False\n",
    "\n",
    "# Write json responses to 'data.json'\n",
    "with open('output_data/data.json', 'w', encoding='utf-8') as f:\n",
    "#     Begin loggin with output to 'python_log.csv'\n",
    "    %logon -o -q\n",
    "    for city in cities:\n",
    "        response = requests.get(query_url + city).json()\n",
    "        json.dump(response, f, ensure_ascii=False, indent=4)  # Write json responses to 'data.json'\n",
    "        response1=response\n",
    "        try:    \n",
    "            print(f\"For the city named {(response1['name'])}, ID Number-{(response1['id'])}: LAT={(response1['coord']['lat'])} WIND={(response1['wind']['speed'])} HUMIDITY={(response['main']['humidity'])} TEMP={(response1['main']['temp_max'])} CLOUDINESS={(response1['clouds']['all'])}\")\n",
    "            response1=[]\n",
    "            citNam.append(response['name']) #and citNam.append(cnt)\n",
    "            code.append(response['id'])\n",
    "            lat.append(response['coord']['lat'])\n",
    "            temp.append(response['main']['temp_max'])\n",
    "            humi.append(response['main']['humidity'])\n",
    "            clouds.append(response['clouds']['all'])\n",
    "            wind.append(response['wind']['speed'])\n",
    "            eSea.append(response['main']['sea_level'])  # Not used in DataFrame\n",
    "            eGnd.append(response['main']['grnd_level']) # Not used in DataFrame\n",
    "        except KeyError:\n",
    "    #             print(f\"The NAME is NO GOOD\")\n",
    "                next\n",
    "    %logstop\n",
    "# EXTRA STUFF **************                                                    \n",
    "# loop throught the list of units and append them to cityList list\n",
    "# for citi in cities:\n",
    "#     query_url = f\"{url}appid={api_key}&q={citi}\"\n",
    "#     weather_response = requests.get(query_url)\n",
    "#     response= weather_response.json()\n",
    "#     lat.append(response['coord']['lat'])\n",
    "#     temp.append(response['main']['temp'])\n",
    "#     cloud.append(response['clouds']['all'])\n",
    "#     wind.append(response['wind']['speed'])\n",
    "#     cityList.append(weather_json)\n",
    "    \n",
    "#     for city in cities:\n",
    "#     response = requests.get(query_url + city).json()\n",
    "#     selection = ('name','id','coord.lat','coord.lon',\"main.temp\", 'main.temp_max',\"main.humidity\", \"wind.speed\",'clouds.all')"
   ]
  },
  {
   "cell_type": "code",
   "execution_count": null,
   "metadata": {},
   "outputs": [],
   "source": [
    "#^^^^^ABOVE WILL REQUIRE ABOUT 3 min to Execute^^^^^\n",
    "# Make sure length of all lists are the same\n",
    "ls=[citNam, code,  lat, temp, humi, clouds, wind ]\n",
    "for l in ls:\n",
    "    print(len(l))\n"
   ]
  },
  {
   "cell_type": "markdown",
   "metadata": {},
   "source": [
    "### Convert Raw Data to DataFrame\n",
    "* Export the city data into a .csv.\n",
    "* Display the DataFrame\n"
   ]
  },
  {
   "cell_type": "code",
   "execution_count": null,
   "metadata": {},
   "outputs": [],
   "source": [
    "# Put data from API response into dictionary for DataFrame\n",
    "dictionary = {}\n",
    "dictionary={\n",
    "    \"City\" : citNam, \n",
    "    \"ID Code\" : code, \n",
    "    \"Latitude\" : lat, \n",
    "    \"Temperature\" : temp,\n",
    "    \"Humidity\" : humi,\n",
    "    \"Cloudiness\" : clouds,\n",
    "    \"Wind\" : wind\n",
    "}\n",
    "# Write DataFrame to CSV 'weather_data_df.csv'\n",
    "weather_data=pd.DataFrame(dictionary)\n",
    "export_csv=weather_data.to_csv(\"output_data/weather_data_df.csv\", index=False, header=True)\n",
    "weather_data.head()"
   ]
  },
  {
   "cell_type": "code",
   "execution_count": null,
   "metadata": {},
   "outputs": [],
   "source": [
    "##Quick check of Temperature data distribution\n",
    "#weather_data['Temperature'].describe()\n",
    "#mean = 69.26\n",
    "#median = 70.72\n",
    "#mode = 86"
   ]
  },
  {
   "cell_type": "markdown",
   "metadata": {
    "deletable": false,
    "editable": false,
    "run_control": {
     "frozen": true
    }
   },
   "source": [
    "### Plotting the Data\n",
    "* Use proper labeling of the plots using plot titles (including date of analysis) and axes labels.\n",
    "* Save the plotted figures as .pngs."
   ]
  },
  {
   "cell_type": "code",
   "execution_count": null,
   "metadata": {},
   "outputs": [],
   "source": [
    "latitude=weather_data['Latitude']\n",
    "temperature=weather_data['Temperature']\n",
    "humidity= weather_data['Humidity']\n",
    "cloudiness= weather_data['Cloudiness']\n",
    "wind_speed= weather_data['Wind']\n",
    "today = date.today()"
   ]
  },
  {
   "cell_type": "markdown",
   "metadata": {
    "deletable": false,
    "editable": false,
    "run_control": {
     "frozen": true
    }
   },
   "source": [
    "#### Latitude vs. Temperature Plot"
   ]
  },
  {
   "cell_type": "code",
   "execution_count": null,
   "metadata": {
    "scrolled": true
   },
   "outputs": [],
   "source": [
    "fig = plt.figure()\n",
    "fig1=plt.scatter(latitude, temperature, marker='.', facecolors=\"blue\", edgecolors=\"blue\")\n",
    "# Set the upper and lower limits of our y axis\n",
    "plt.ylim(0,120)\n",
    "# Set the upper and lower limits of our x axis\n",
    "plt.xlim(-80,100)\n",
    "# Create a title, x label, and y label for our chart\n",
    "plt.title(\"Max Temperature v Latitude\")\n",
    "\n",
    "plt.xlabel(\"Latitude\")\n",
    "plt.ylabel(f\"Temperature (Degrees F) {today}\")\n",
    "\n",
    "# Save an image of the chart and print to screen\n",
    "# NOTE: If your plot shrinks after saving an image,\n",
    "# update matplotlib to 2.2 or higher,\n",
    "# or simply run the above cells again.\n",
    "plt.savefig(\"output_data/temp_v_Latitude.png\")\n",
    "plt.show()"
   ]
  },
  {
   "cell_type": "markdown",
   "metadata": {
    "deletable": false,
    "editable": false,
    "run_control": {
     "frozen": true
    }
   },
   "source": [
    "#### Latitude vs. Humidity Plot"
   ]
  },
  {
   "cell_type": "code",
   "execution_count": null,
   "metadata": {},
   "outputs": [],
   "source": [
    "fig = plt.figure()\n",
    "fig1=plt.scatter(latitude, humidity, marker=\".\", facecolors=\"blue\", edgecolors=\"blue\")\n",
    "# Set the upper and lower limits of our y axis\n",
    "plt.ylim(0,105)\n",
    "# Set the upper and lower limits of our x axis\n",
    "plt.xlim(-80,100)\n",
    "# Create a title, x label, and y label for our chart\n",
    "plt.title(\"Humidity v Latitude\")\n",
    "plt.xlabel(\"Latitude\")\n",
    "plt.ylabel(f\"Humidity (%) {today}\")\n",
    "\n",
    "# Save an image of the chart and print to screen\n",
    "# NOTE: If your plot shrinks after saving an image,\n",
    "# update matplotlib to 2.2 or higher,\n",
    "# or simply run the above cells again.\n",
    "plt.savefig(\"output_data/humidity_v_Latitude.png\")\n",
    "plt.show()"
   ]
  },
  {
   "cell_type": "markdown",
   "metadata": {
    "deletable": false,
    "editable": false,
    "run_control": {
     "frozen": true
    }
   },
   "source": [
    "#### Latitude vs. Cloudiness Plot"
   ]
  },
  {
   "cell_type": "code",
   "execution_count": null,
   "metadata": {},
   "outputs": [],
   "source": [
    "fig = plt.figure()\n",
    "fig1=plt.scatter(latitude, cloudiness, marker=\".\", facecolors=\"blue\", edgecolors=\"blue\")\n",
    "# Set the upper and lower limits of our y axis\n",
    "plt.ylim(-5,105)\n",
    "# Set the upper and lower limits of our x axis\n",
    "plt.xlim(-80,100)\n",
    "# Create a title, x label, and y label for our chart\n",
    "plt.title(\"Cloudiness v Latitude\")\n",
    "plt.xlabel(\"Latitude\")\n",
    "plt.ylabel(f\"Cloudiness (%) {today}\")\n",
    "\n",
    "# Save an image of the chart and print to screen\n",
    "# NOTE: If your plot shrinks after saving an image,\n",
    "# update matplotlib to 2.2 or higher,\n",
    "# or simply run the above cells again.\n",
    "plt.savefig(\"output_data/cloudiness_v_Latitude.png\")\n",
    "plt.show()"
   ]
  },
  {
   "cell_type": "markdown",
   "metadata": {
    "deletable": false,
    "editable": false,
    "run_control": {
     "frozen": true
    }
   },
   "source": [
    "#### Latitude vs. Wind Speed Plot"
   ]
  },
  {
   "cell_type": "code",
   "execution_count": null,
   "metadata": {},
   "outputs": [],
   "source": [
    "fig = plt.figure()\n",
    "fig1=plt.scatter(latitude, wind_speed, marker=\".\", facecolors=\"blue\", edgecolors=\"blue\")\n",
    "# Set the upper and lower limits of our y axis\n",
    "plt.ylim(0,40)\n",
    "# Set the upper and lower limits of our x axis\n",
    "plt.xlim(-80,100)\n",
    "# Create a title, x label, and y label for our chart\n",
    "plt.title(\"Wind Speed v Latitude\")\n",
    "plt.xlabel(\"Latitude\")\n",
    "plt.ylabel(f\"Wind Speed (mph) {today}\")\n",
    "\n",
    "# Save an image of the chart and print to screen\n",
    "# NOTE: If your plot shrinks after saving an image,\n",
    "# update matplotlib to 2.2 or higher,\n",
    "# or simply run the above cells again.\n",
    "plt.savefig(\"output_data/wind_speed_v_Latitude.png\")\n",
    "plt.show()"
   ]
  },
  {
   "cell_type": "markdown",
   "metadata": {},
   "source": [
    "# Observable Trends\n",
    "\n",
    "The following trends are observable in the output scatter plots. These warrant further investigation as there are several possible sources of error that require exclusion/inclusion. While the latitudes and longitudes were generated at random, the subsequent use of CitiPy to generate city names introduces possible selection bias into the city list sample. Also at issue here is the population concentration in the northers and eastern hemispherres.\n",
    "\n",
    "Methodologically, the city list queried openweather API for current conditions, dropping those city names that produced a response error; another source of uncertainty depending on the cause of the error. \n",
    "\n",
    "The data was plotted individually versus latitude, rather than attempting to include cloudcover, wind and humidity in a single analysis. Other available temperature-effecting data, such as elevation, aspect (direction-facing), and distance from water werer omitted entirely.  \n",
    "\n",
    "Observations:\n",
    "\n",
    "1)\tTemperature v. Latitude scatter plot shows a clear ‘inverted U’ distribution of temperatures, however the axis of symmetry is closer to 30 degrees latitude, rather than 0 degrees as predicted by the ‘hottest at the equator’ theory. \n",
    "\n",
    "2)\tHumidity v Latitude scatter plot showed the highest values at the equator\n",
    "\n",
    "3)\tWind Speed v Latitude showed nothing remarkable\n",
    "\n",
    "4)\tCloudiness v Latitude showed an aggregation of values across all latitudes at 20%, 40%, 75%, and 100%. This may be due to weather prediction shorthand, or possibly have something to do with prevailing winds.\n",
    "\n"
   ]
  },
  {
   "cell_type": "code",
   "execution_count": null,
   "metadata": {},
   "outputs": [],
   "source": []
  }
 ],
 "metadata": {
  "anaconda-cloud": {},
  "kernel_info": {
   "name": "python3"
  },
  "kernelspec": {
   "display_name": "Python 3",
   "language": "python",
   "name": "python3"
  },
  "language_info": {
   "codemirror_mode": {
    "name": "ipython",
    "version": 3
   },
   "file_extension": ".py",
   "mimetype": "text/x-python",
   "name": "python",
   "nbconvert_exporter": "python",
   "pygments_lexer": "ipython3",
   "version": "3.6.8"
  },
  "nteract": {
   "version": "0.12.3"
  },
  "toc": {
   "base_numbering": 1,
   "nav_menu": {},
   "number_sections": true,
   "sideBar": true,
   "skip_h1_title": false,
   "title_cell": "Table of Contents",
   "title_sidebar": "Contents",
   "toc_cell": false,
   "toc_position": {
    "height": "calc(100% - 180px)",
    "left": "10px",
    "top": "150px",
    "width": "165px"
   },
   "toc_section_display": true,
   "toc_window_display": true
  },
  "varInspector": {
   "cols": {
    "lenName": 16,
    "lenType": 16,
    "lenVar": 40
   },
   "kernels_config": {
    "python": {
     "delete_cmd_postfix": "",
     "delete_cmd_prefix": "del ",
     "library": "var_list.py",
     "varRefreshCmd": "print(var_dic_list())"
    },
    "r": {
     "delete_cmd_postfix": ") ",
     "delete_cmd_prefix": "rm(",
     "library": "var_list.r",
     "varRefreshCmd": "cat(var_dic_list()) "
    }
   },
   "oldHeight": 349.090454,
   "position": {
    "height": "370.534px",
    "left": "3.45455px",
    "right": "20px",
    "top": "200px",
    "width": "324.523px"
   },
   "types_to_exclude": [
    "module",
    "function",
    "builtin_function_or_method",
    "instance",
    "_Feature"
   ],
   "varInspector_section_display": "block",
   "window_display": false
  }
 },
 "nbformat": 4,
 "nbformat_minor": 2
}
