{
 "cells": [
  {
   "cell_type": "code",
   "execution_count": 1,
   "metadata": {
    "ExecuteTime": {
     "end_time": "2019-07-23T18:41:09.989373Z",
     "start_time": "2019-07-23T18:41:08.646696Z"
    },
    "scrolled": true
   },
   "outputs": [
    {
     "name": "stdout",
     "output_type": "stream",
     "text": [
      "Switching logging OFF\n"
     ]
    }
   ],
   "source": [
    "# Dependencies and Setup\n",
    "%matplotlib notebook\n",
    "import matplotlib.pyplot as plt\n",
    "import pandas as pd\n",
    "import numpy as np\n",
    "import requests\n",
    "import time\n",
    "import openweathermapy.core as owm\n",
    "import pytemperature\n",
    "import csv\n",
    "import os\n",
    "%logstart -o -q output_data/python_log.csv\n",
    "%logoff\n",
    "\n",
    "\n",
    "\n",
    "\n",
    "# Import API key\n",
    "from api_keys import api_key\n",
    "\n",
    "# Incorporated citipy to determine city based on latitude and longitude\n",
    "from citipy import citipy\n",
    "\n",
    "# Output File (CSV)\n",
    "output_data_file = \"output_data/cities.csv\"\n",
    "csvfile = \"cities.csv\"\n",
    "output_path = os.path.join(\"output_data\", \"cities.csv\")\n",
    "\n",
    "\n",
    " \n",
    "# Range of latitudes and longitudes\n",
    "lat_range = (-90, 90)\n",
    "lng_range = (-180, 180)"
   ]
  },
  {
   "cell_type": "code",
   "execution_count": 2,
   "metadata": {
    "ExecuteTime": {
     "end_time": "2019-07-23T18:41:10.079171Z",
     "start_time": "2019-07-23T18:41:10.050212Z"
    }
   },
   "outputs": [
    {
     "data": {
      "text/plain": [
       "27"
      ]
     },
     "execution_count": 2,
     "metadata": {},
     "output_type": "execute_result"
    }
   ],
   "source": [
    "# List for holding lat_lngs and cities\n",
    "lat_lngs = []\n",
    "cities = []\n",
    "countries = []\n",
    "\n",
    "\n",
    "# Create a set of random lat and lng combinations\n",
    "lats = np.random.uniform(low=-90.000, high=90.000, size=30)\n",
    "lngs = np.random.uniform(low=-180.000, high=180.000, size=30)\n",
    "lat_lngs = zip(lats, lngs)\n",
    "\n",
    "\n",
    "\n",
    "# Identify nearest city for each lat, lng combination\n",
    "for lat_lng in lat_lngs:\n",
    "    city = citipy.nearest_city(lat_lng[0], lat_lng[1]).city_name\n",
    "    country = citipy.nearest_city(lat_lng[0], lat_lng[1]).country_code\n",
    "    \n",
    "# If the city is unique, then add it to a our cities list\n",
    "    if city not in cities:\n",
    "        cities.append(city)\n",
    "        countries.append(country)\n",
    "\n",
    "with open(output_path, 'w', newline='') as csvfile:\n",
    "    csvwriter = csv.writer(csvfile, delimiter=',')\n",
    "    csvwriter.writerow(cities)\n",
    "    \n",
    "# Print the city count to confirm sufficient count\n",
    "len(cities)"
   ]
  },
  {
   "cell_type": "code",
   "execution_count": 6,
   "metadata": {
    "ExecuteTime": {
     "end_time": "2019-07-23T18:46:30.678902Z",
     "start_time": "2019-07-23T18:46:25.437842Z"
    },
    "scrolled": false
   },
   "outputs": [
    {
     "name": "stdout",
     "output_type": "stream",
     "text": [
      "\n",
      "Logging hasn't been started yet (use logstart for that).\n",
      "\n",
      "%logon/%logoff are for temporarily starting and stopping logging for a logfile\n",
      "which already exists. But you must first start the logging process with\n",
      "%logstart (optionally giving a logfile name).\n",
      "For the city named Salalah, ID Number-286621: LAT=17.01 WIND=4.7 HUMIDITY=88 TEMP=80.6 CLOUDINESS=90\n",
      "For the city named Rikitea, ID Number-4030556: LAT=-23.12 WIND=16.89 HUMIDITY=76 TEMP=70 CLOUDINESS=97\n",
      "For the city named Ushuaia, ID Number-3833367: LAT=-54.81 WIND=29.97 HUMIDITY=74 TEMP=35.6 CLOUDINESS=75\n",
      "For the city named Avarua, ID Number-4035715: LAT=-21.21 WIND=16.11 HUMIDITY=64 TEMP=73.4 CLOUDINESS=4\n",
      "For the city named Gazojak, ID Number-1514792: LAT=41.19 WIND=10.54 HUMIDITY=16 TEMP=91.6 CLOUDINESS=0\n",
      "For the city named Vaini, ID Number-1273574: LAT=15.34 WIND=2.71 HUMIDITY=93 TEMP=76.48 CLOUDINESS=100\n",
      "For the city named Manaure, ID Number-3675504: LAT=11.78 WIND=13.87 HUMIDITY=42 TEMP=98.6 CLOUDINESS=75\n",
      "For the city named Puerto Ayora, ID Number-3652764: LAT=-0.74 WIND=18.34 HUMIDITY=69 TEMP=75.2 CLOUDINESS=75\n",
      "For the city named Havre-Saint-Pierre, ID Number-5972291: LAT=50.23 WIND=9.17 HUMIDITY=63 TEMP=64.4 CLOUDINESS=20\n",
      "For the city named Opuwo, ID Number-3354077: LAT=-18.06 WIND=5.66 HUMIDITY=32 TEMP=61 CLOUDINESS=0\n",
      "For the city named Busselton, ID Number-2075265: LAT=-33.64 WIND=9.84 HUMIDITY=67 TEMP=57 CLOUDINESS=100\n",
      "For the city named Egvekinot, ID Number-4031742: LAT=66.32 WIND=2.57 HUMIDITY=93 TEMP=43.36 CLOUDINESS=100\n",
      "For the city named Hilo, ID Number-5855927: LAT=19.71 WIND=4.7 HUMIDITY=73 TEMP=81 CLOUDINESS=75\n",
      "For the city named Deniliquin, ID Number-2169068: LAT=-35.53 WIND=4 HUMIDITY=93 TEMP=42.01 CLOUDINESS=30\n",
      "For the city named Tuktoyaktuk, ID Number-6170031: LAT=69.44 WIND=14.99 HUMIDITY=81 TEMP=51.8 CLOUDINESS=75\n",
      "For the city named San Cristobal, ID Number-3609418: LAT=14.68 WIND=7.65 HUMIDITY=33 TEMP=87.28 CLOUDINESS=100\n",
      "For the city named Codrington, ID Number-2160063: LAT=-28.95 WIND=10.29 HUMIDITY=93 TEMP=55.99 CLOUDINESS=0\n",
      "For the city named Methoni, ID Number-257122: LAT=36.82 WIND=6.93 HUMIDITY=40 TEMP=86 CLOUDINESS=40\n",
      "For the city named Bredasdorp, ID Number-1015776: LAT=-34.53 WIND=12.75 HUMIDITY=71 TEMP=53.6 CLOUDINESS=34\n",
      "For the city named Aranos, ID Number-3358666: LAT=-24.14 WIND=16.13 HUMIDITY=13 TEMP=60.82 CLOUDINESS=0\n",
      "For the city named Rome, ID Number-6539761: LAT=41.89 WIND=3.36 HUMIDITY=40 TEMP=91.4 CLOUDINESS=0\n",
      "For the city named Castro, ID Number-3896218: LAT=-42.48 WIND=4.7 HUMIDITY=57 TEMP=50 CLOUDINESS=40\n",
      "For the city named Kapaa, ID Number-5848280: LAT=22.08 WIND=17.22 HUMIDITY=74 TEMP=82.4 CLOUDINESS=40\n",
      "For the city named Tasiilaq, ID Number-3424607: LAT=65.61 WIND=13.87 HUMIDITY=65 TEMP=46.4 CLOUDINESS=40\n",
      "For the city named Yatou, ID Number-2225940: LAT=3.63 WIND=3.36 HUMIDITY=88 TEMP=78.8 CLOUDINESS=40\n"
     ]
    }
   ],
   "source": [
    "# citi = cities\n",
    "units = \"imperial\"\n",
    "url = \"http://api.openweathermap.org/data/2.5/weather?\"\n",
    "owm.utils.load_config\n",
    "settings = {\"units\": units, \"APPID\": api_key}\n",
    "query_url = f\"{url}appid={api_key}&units={units}&q=\"\n",
    "\n",
    "# set up lists to hold reponse info\n",
    "weather_response = []\n",
    "cityList = []\n",
    "citNam = []\n",
    "lat = []\n",
    "temp = []\n",
    "humi = []\n",
    "eSea = []\n",
    "eGnd = []\n",
    "clouds = []\n",
    "wind = []\n",
    "code = []\n",
    "\n",
    "# for citi in cities:\n",
    "#     weather_response = owm.find_city(citi, **settings)\n",
    "#     selection = ('id','coord.lat','coord.lon')\n",
    "#     data = weather_response(selection)\n",
    "#     cityList.append(data)\n",
    "    \n",
    "# Loop through the list of cities and perform a request for data on each\n",
    "# for city in cities:\n",
    "#     response = requests.get(query_url + city).json()\n",
    "#     lat.append(response['coord']['lat'])\n",
    "#     temp.append(response['main']['temp'])\n",
    "#     cloud.append(response['clouds']['all'])\n",
    "#     wind.append(response['wind']['speed'])\n",
    "# logger.disabled = True\n",
    "# logger.disabled = False\n",
    "\n",
    "\n",
    "    \n",
    "with open('output_data/data.json', 'w', encoding='utf-8') as f:\n",
    "\n",
    "    %logon -o -q\n",
    "    for city in cities:\n",
    "\n",
    "        response = requests.get(query_url + city).json()\n",
    "        json.dump(response, f, ensure_ascii=False, indent=4)\n",
    "        response1=response\n",
    "        try:    \n",
    "            print(f\"For the city named {(response1['name'])}, ID Number-{(response1['id'])}: LAT={(response1['coord']['lat'])} WIND={(response1['wind']['speed'])} HUMIDITY={(response['main']['humidity'])} TEMP={(response1['main']['temp_max'])} CLOUDINESS={(response1['clouds']['all'])}\")\n",
    "            response1=[]\n",
    "            citNam.append(response['name']) #and citNam.append(cnt)\n",
    "            code.append(response['id'])\n",
    "            lat.append(response['coord']['lat'])\n",
    "            temp.append(response['main']['temp_max'])\n",
    "            humi.append(response['main']['humidity'])\n",
    "            clouds.append(response['clouds']['all'])\n",
    "            wind.append(response['wind']['speed'])\n",
    "            eSea.append(response['main']['sea_level'])\n",
    "            eGnd.append(response['main']['grnd_level'])\n",
    "\n",
    "        except KeyError:\n",
    "        #             print(f\"The NAME is NO GOOD\")\n",
    "                    next"
   ]
  },
  {
   "cell_type": "code",
   "execution_count": 4,
   "metadata": {
    "ExecuteTime": {
     "end_time": "2019-07-23T18:41:26.739121Z",
     "start_time": "2019-07-23T18:41:26.708185Z"
    }
   },
   "outputs": [
    {
     "data": {
      "text/html": [
       "<div>\n",
       "<style scoped>\n",
       "    .dataframe tbody tr th:only-of-type {\n",
       "        vertical-align: middle;\n",
       "    }\n",
       "\n",
       "    .dataframe tbody tr th {\n",
       "        vertical-align: top;\n",
       "    }\n",
       "\n",
       "    .dataframe thead th {\n",
       "        text-align: right;\n",
       "    }\n",
       "</style>\n",
       "<table border=\"1\" class=\"dataframe\">\n",
       "  <thead>\n",
       "    <tr style=\"text-align: right;\">\n",
       "      <th></th>\n",
       "      <th>City</th>\n",
       "      <th>ID Code</th>\n",
       "      <th>Latitude</th>\n",
       "      <th>Temperature</th>\n",
       "      <th>Humidity</th>\n",
       "      <th>Cloudiness</th>\n",
       "      <th>Wind</th>\n",
       "    </tr>\n",
       "  </thead>\n",
       "  <tbody>\n",
       "    <tr>\n",
       "      <th>0</th>\n",
       "      <td>Salalah</td>\n",
       "      <td>286621</td>\n",
       "      <td>17.01</td>\n",
       "      <td>80.6</td>\n",
       "      <td>88</td>\n",
       "      <td>90</td>\n",
       "      <td>4.70</td>\n",
       "    </tr>\n",
       "    <tr>\n",
       "      <th>1</th>\n",
       "      <td>Rikitea</td>\n",
       "      <td>4030556</td>\n",
       "      <td>-23.12</td>\n",
       "      <td>70.0</td>\n",
       "      <td>76</td>\n",
       "      <td>97</td>\n",
       "      <td>16.89</td>\n",
       "    </tr>\n",
       "    <tr>\n",
       "      <th>2</th>\n",
       "      <td>Ushuaia</td>\n",
       "      <td>3833367</td>\n",
       "      <td>-54.81</td>\n",
       "      <td>35.6</td>\n",
       "      <td>74</td>\n",
       "      <td>75</td>\n",
       "      <td>29.97</td>\n",
       "    </tr>\n",
       "    <tr>\n",
       "      <th>3</th>\n",
       "      <td>Avarua</td>\n",
       "      <td>4035715</td>\n",
       "      <td>-21.21</td>\n",
       "      <td>73.4</td>\n",
       "      <td>64</td>\n",
       "      <td>4</td>\n",
       "      <td>16.11</td>\n",
       "    </tr>\n",
       "    <tr>\n",
       "      <th>4</th>\n",
       "      <td>Gazojak</td>\n",
       "      <td>1514792</td>\n",
       "      <td>41.19</td>\n",
       "      <td>91.6</td>\n",
       "      <td>16</td>\n",
       "      <td>0</td>\n",
       "      <td>10.54</td>\n",
       "    </tr>\n",
       "  </tbody>\n",
       "</table>\n",
       "</div>"
      ],
      "text/plain": [
       "      City  ID Code  Latitude  Temperature  Humidity  Cloudiness   Wind\n",
       "0  Salalah   286621     17.01         80.6        88          90   4.70\n",
       "1  Rikitea  4030556    -23.12         70.0        76          97  16.89\n",
       "2  Ushuaia  3833367    -54.81         35.6        74          75  29.97\n",
       "3   Avarua  4035715    -21.21         73.4        64           4  16.11\n",
       "4  Gazojak  1514792     41.19         91.6        16           0  10.54"
      ]
     },
     "execution_count": 4,
     "metadata": {},
     "output_type": "execute_result"
    }
   ],
   "source": [
    "%logstop\n",
    "dictionary = {}\n",
    "dictionary={\n",
    "    \"City\" : citNam, \n",
    "    \"ID Code\" : code, \n",
    "    \"Latitude\" : lat, \n",
    "    \"Temperature\" : temp,\n",
    "    \"Humidity\" : humi,\n",
    "    \"Cloudiness\" : clouds,\n",
    "    \"Wind\" : wind\n",
    "}\n",
    "weather_data=pd.DataFrame(dictionary)\n",
    "export_csv=weather_data.to_csv(\"output_data/weather_data_df.csv\", index=False, header=True)\n",
    "weather_data.head()"
   ]
  },
  {
   "cell_type": "code",
   "execution_count": null,
   "metadata": {},
   "outputs": [],
   "source": [
    " pd.read_json(json.dumps(response)).to_csv('API_.csv')"
   ]
  },
  {
   "cell_type": "code",
   "execution_count": null,
   "metadata": {},
   "outputs": [],
   "source": []
  }
 ],
 "metadata": {
  "kernelspec": {
   "display_name": "Python 3",
   "language": "python",
   "name": "python3"
  },
  "language_info": {
   "codemirror_mode": {
    "name": "ipython",
    "version": 3
   },
   "file_extension": ".py",
   "mimetype": "text/x-python",
   "name": "python",
   "nbconvert_exporter": "python",
   "pygments_lexer": "ipython3",
   "version": "3.6.8"
  },
  "toc": {
   "base_numbering": 1,
   "nav_menu": {},
   "number_sections": true,
   "sideBar": true,
   "skip_h1_title": false,
   "title_cell": "Table of Contents",
   "title_sidebar": "Contents",
   "toc_cell": false,
   "toc_position": {
    "height": "calc(100% - 180px)",
    "left": "10px",
    "top": "150px",
    "width": "279.273px"
   },
   "toc_section_display": true,
   "toc_window_display": true
  },
  "varInspector": {
   "cols": {
    "lenName": 16,
    "lenType": 16,
    "lenVar": 40
   },
   "kernels_config": {
    "python": {
     "delete_cmd_postfix": "",
     "delete_cmd_prefix": "del ",
     "library": "var_list.py",
     "varRefreshCmd": "print(var_dic_list())"
    },
    "r": {
     "delete_cmd_postfix": ") ",
     "delete_cmd_prefix": "rm(",
     "library": "var_list.r",
     "varRefreshCmd": "cat(var_dic_list()) "
    }
   },
   "types_to_exclude": [
    "module",
    "function",
    "builtin_function_or_method",
    "instance",
    "_Feature"
   ],
   "window_display": false
  }
 },
 "nbformat": 4,
 "nbformat_minor": 2
}
